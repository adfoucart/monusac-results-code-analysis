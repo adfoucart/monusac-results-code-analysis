{
 "cells": [
  {
   "cell_type": "markdown",
   "id": "80bda097",
   "metadata": {},
   "source": [
    "# Analysis of the MoNuSAC 2020 challenge evaluation and results: metric implementation errors\n",
    "\n",
    "## Supplementary materials\n",
    "\n",
    "Adrien Foucart, Olivier Debeir, Christine Decaestecker.\n",
    "\n",
    "The supplementary materials contain:\n",
    "\n",
    "0. Links to all the data necessary to reproduce the results\n",
    "1. Error in the \"Panoptic Quality\" computation (section II.A of the article)\n",
    "2. Error in the \"Nuclei-Type and Organ Level\" PQ (section II.B of the article)\n",
    "3. Missed false positives (section III of the article)\n",
    "4. Problem with the aggregation method (section IV of the article)"
   ]
  },
  {
   "cell_type": "markdown",
   "id": "36ad1c9c",
   "metadata": {},
   "source": [
    "## Links to the data necessary to reproduce the results:\n",
    "\n",
    "- [Res] Official challenge results: https://monusac-2020.grand-challenge.org/Results/\n",
    "- [PrePub] Pre-challenge publication: https://www.researchgate.net/publication/339227864_Multi-organ_Nuclei_Segmentation_and_Classification_Challenge_2020?channel=doi&linkId=5e49f74192851c7f7f40f1d1&showFulltext=true\n",
    "- [PostPub] Post-challenge publication: https://ieeexplore.ieee.org/document/9446924/\n",
    "- [Suppl] Post-challenge publication's supplementary materials: https://drive.google.com/file/d/1kdOl3s6uQBRv0nToSIf1dPuceZunzL4N/view\n",
    "- [GitHub] GitHub with challenge's evaluation code & annotation parsing: https://github.com/ruchikaverma-iitg/MoNuSAC/\n",
    "- [Masks] Ground truth masks & several team's predictions : https://monusac-2020.grand-challenge.org/Data/\n",
    "- [Format] Example results showing expected format, provided by the organizers: https://drive.google.com/file/d/1f_dpKpS4z8DGzw_xHvxxPYMSW0ReHW_R/view\n",
    "\n",
    "To reproduce all the results from this notebook, the Team's color-coded prediction masks should be downloaded and put in the **./Teams** directory (or the code should be updated to point to the desired directory as needed), and the ground truth data should be in **./MoNuSAC Testing Data and Annotations**."
   ]
  },
  {
   "cell_type": "markdown",
   "id": "a0bb3e09",
   "metadata": {},
   "source": [
    "# 1. Error in the \"Panoptic Quality\" computation\n",
    "\n",
    "In the code provided in https://github.com/ruchikaverma-iitg/MoNuSAC/blob/master/PQ_metric.ipynb, we find the implementation of the \"PQ\" metric computation.\n",
    "\n",
    "The PQ is defined as $\\frac{\\sum_{TP}IoUs}{|TP|} x \\frac{|TP|}{|TP|+0.5*|FP|+0.5*|FN|}$ or, in words, the \"average IoUs of the true positives\" (segmentation score) multiplied by the detection F1-score. A \"true positive\" is defined in [PrePub] and [PostPub] as a (prediction, ground truth) object pair with $IoU > 0.5$.\n",
    "\n",
    "The code of the method in [GitHub] is as follows: "
   ]
  },
  {
   "cell_type": "code",
   "execution_count": 1,
   "id": "d0ce94bd",
   "metadata": {},
   "outputs": [],
   "source": [
    "# Compute Panoptic quality metric for each image\n",
    "def Panoptic_quality(ground_truth_image,predicted_image):\n",
    "    TP = 0\n",
    "    FP = 0\n",
    "    FN = 0\n",
    "    sum_IOU = 0\n",
    "    matched_instances = {}# Create a dictionary to save ground truth indices in keys and predicted matched instances as velues\n",
    "                        # It will also save IOU of the matched instance in [indx][1]\n",
    "\n",
    "    # Find matched instances and save it in a dictionary\n",
    "    for i in np.unique(ground_truth_image):\n",
    "        if i == 0:\n",
    "            pass\n",
    "        else:\n",
    "            temp_image = np.array(ground_truth_image)\n",
    "            temp_image = temp_image == i\n",
    "            matched_image = temp_image * predicted_image\n",
    "        \n",
    "            for j in np.unique(matched_image):\n",
    "                if j == 0:\n",
    "                    pass\n",
    "                else:\n",
    "                    pred_temp = predicted_image == j\n",
    "                    intersection = sum(sum(temp_image*pred_temp))\n",
    "                    union = sum(sum(temp_image + pred_temp))\n",
    "                    IOU = intersection/union\n",
    "                    if IOU> 0.5:\n",
    "                        matched_instances [i] = j, IOU \n",
    "                        \n",
    "    # Compute TP, FP, FN and sum of IOU of the matched instances to compute Panoptic Quality               \n",
    "                        \n",
    "    pred_indx_list = np.unique(predicted_image)\n",
    "    pred_indx_list = np.array(pred_indx_list[1:])\n",
    "\n",
    "    # Loop on ground truth instances\n",
    "    for indx in np.unique(ground_truth_image):\n",
    "        if indx == 0:\n",
    "            pass\n",
    "        else:\n",
    "            if indx in matched_instances.keys():\n",
    "                pred_indx_list = np.delete(pred_indx_list, np.argwhere(pred_indx_list == [indx][0]))\n",
    "                TP = TP+1\n",
    "                sum_IOU = sum_IOU+matched_instances[indx][1]\n",
    "            else:\n",
    "                FN = FN+1\n",
    "    FP = len(np.unique(pred_indx_list))\n",
    "    PQ = sum_IOU/(TP+0.5*FP+0.5*FN)\n",
    "    \n",
    "    return PQ"
   ]
  },
  {
   "cell_type": "markdown",
   "id": "b309991a",
   "metadata": {},
   "source": [
    "In the code, first the matched instances are stored in a dictionnary. In line 28:\n",
    "\n",
    "```matched_instance[i] = j, IOU```\n",
    "\n",
    "With ```i``` the index of the ground truth object and ```j``` the index of the predicted object.\n",
    "\n",
    "Once all matches have been found, the code creates a list of existing predicted indices ```pred_indx_list``` (line 32-33). We then loop over all ground truth objects. In the ground truth object ```indx``` is associated with a match (```matched_instances[indx]``` exists), the associated predicted object is removed from the ```pred_indx_list```, a True Positive counter is incremented, and the IoU is added to a running sum. If no match exists, a False Negative is noted. At the end, the remaining indices in the ```pred_indx_list``` are counted as False Positives.\n",
    "\n",
    "The error appears in line 41:\n",
    "\n",
    "```pred_indx_list = np.delete(pred_indx_list, np.argwhere(pred_indx_list == [indx][0]))```\n",
    "\n",
    "Which should read:\n",
    "\n",
    "```pred_indx_list = np.delete(pred_indx_list, np.argwhere(pred_indx_list == matched_instances[indx][0]))```\n",
    "\n",
    "Because of that error, the index removed from ```pred_indx_list``` is not the **predicted object index** but the **ground truth object index** (as ```[indx][0] == indx```). As np.delete doesn't raise an error if the index doesn't exist, this means that if the **ground truth object index** doesn't exit in the ```pred_indx_list```, **no index will be removed from the prediction list**, resulting in an erroneous False Positive.\n",
    "\n",
    "The resulting error will be particularly large if:\n",
    "* There are more Ground Truth objects than Predicted Objects -> it is then likely that some of the matches will happen on Ground Truth objects with an index > than any existing predicted objects, resulting in erroneous false positives.\n",
    "* The indexing of the ground truth objects & predicted objects are not \"aligned\" (for instance -> if the ground truth objects are labeled ```[1,2,3,4]``` and the predicted objects are labelled ```[5,6,7,8]```, four \"false positives\" will be counted even if the objects are perfectly matched.\n",
    "\n",
    "Unfortunately, the latter scenario is not unlikely at all, as there are two different strategies when generating the per-class prediction masks. As each class' prediction has to be sent separately, it makes sense to reset the label count for each class, so that labels for every prediction the \"n-ary mask\" will always have a set of objects starting at label 1. Conversely, as the goal of the challenge is to provide \"segmentation and classification\" for all classes in an image, it would also make sense to provide a unique label for each object in the image, and then to separate the objects by class. In that case, the labels could follow each other from class to class (for instance: Epithelial = [1,2...N], Lymphocyte = [N+1,N+2...M], etc., or they could be completely mixed.\n",
    "\n",
    "Nothing in the provided instructions require one strategy over the others. The provided example .mat files illustrating the format chose the \"labels following each other\" method, so that the labels for a given class will typically only start at 1 for the first class present in the image. The code building the \"n-ary masks\" from the .xml annotations for the ground truth follow that same rule."
   ]
  },
  {
   "cell_type": "markdown",
   "id": "ea2cb5e2",
   "metadata": {},
   "source": [
    "## Demonstration on fabricated data\n",
    "\n",
    "We construct a \"ground truth\" image with three objects, and a \"prediction\" image with the same three objects, but given different labels. The correct PQ should be 1, but the challenge code finds three false positives because of the disalignment of the labels, leading to an incorrect PQ of $\\frac{3}{3+1.5} = \\frac{2}{3}$ "
   ]
  },
  {
   "cell_type": "code",
   "execution_count": 2,
   "id": "ac4c689b",
   "metadata": {},
   "outputs": [
    {
     "name": "stdout",
     "output_type": "stream",
     "text": [
      "0.6666666666666666\n"
     ]
    }
   ],
   "source": [
    "import numpy as np\n",
    "\n",
    "gt = np.zeros((100,100))\n",
    "pred = np.zeros((100,100))\n",
    "\n",
    "gt[10:20,10:20] = 1\n",
    "gt[10:20,30:40] = 2\n",
    "gt[50:60,50:60] = 3\n",
    "\n",
    "pred[10:20,10:20] = 4\n",
    "pred[10:20,30:40] = 5\n",
    "pred[50:60,50:60] = 6\n",
    "\n",
    "PQ = Panoptic_quality(gt, pred)\n",
    "print(PQ)"
   ]
  },
  {
   "cell_type": "markdown",
   "id": "f2427076",
   "metadata": {},
   "source": [
    "## Demonstration on challenge data\n",
    "\n",
    "Using an image with multiple classes to better see the effect of the \"alignment\" problem."
   ]
  },
  {
   "cell_type": "code",
   "execution_count": 3,
   "id": "962f84c6",
   "metadata": {},
   "outputs": [
    {
     "data": {
      "image/png": "[encoded data removed]",
      "text/plain": [
       "<Figure size 432x288 with 1 Axes>"
      ]
     },
     "metadata": {
      "needs_background": "light"
     },
     "output_type": "display_data"
    }
   ],
   "source": [
    "%matplotlib inline\n",
    "from skimage.io import imread\n",
    "from matplotlib import pyplot as plt\n",
    "\n",
    "colorcoded_prediction_mask = \"./Teams/SJTU_426/TCGA-2Z-A9JG-01Z-00-DX1/TCGA-2Z-A9JG-01Z-00-DX1_6_mask.png.tif\"\n",
    "testing_image = \"./MoNuSAC Testing Data and Annotations/TCGA-2Z-A9JG-01Z-00-DX1/TCGA-2Z-A9JG-01Z-00-DX1_6.svs\"\n",
    "testing_annotations = \"./MoNuSAC Testing Data and Annotations/TCGA-2Z-A9JG-01Z-00-DX1/TCGA-2Z-A9JG-01Z-00-DX1_6.xml\"\n",
    "\n",
    "cc_mask = imread(colorcoded_prediction_mask)\n",
    "plt.figure()\n",
    "plt.imshow(cc_mask)\n",
    "plt.axis('off')\n",
    "plt.show()"
   ]
  },
  {
   "cell_type": "markdown",
   "id": "ae60cc90",
   "metadata": {},
   "source": [
    "The code below is taken from [GitHub]'s n-ary_mask_generation.ipynb file to generate n-ary_masks from the xml annotations."
   ]
  },
  {
   "cell_type": "code",
   "execution_count": 4,
   "id": "02086e93",
   "metadata": {},
   "outputs": [
    {
     "name": "stdout",
     "output_type": "stream",
     "text": [
      "1\n",
      "Epithelial\n",
      "2\n",
      "Lymphocyte\n",
      "3\n",
      "Neutrophil\n",
      "4\n",
      "Macrophage\n",
      "5\n",
      "Ambiguous\n"
     ]
    }
   ],
   "source": [
    "import xml.etree.ElementTree as ET\n",
    "import openslide\n",
    "from shapely.geometry import Polygon\n",
    "import numpy as np\n",
    "from skimage import draw\n",
    "\n",
    "# Read xml file\n",
    "xml_file_name = testing_annotations\n",
    "tree = ET.parse(xml_file_name)\n",
    "root = tree.getroot()\n",
    "\n",
    "# Read SVS\n",
    "img = openslide.OpenSlide(testing_image)\n",
    "\n",
    "n_ary_masks = {}\n",
    "count = 0\n",
    "gt = 0\n",
    "\n",
    "#Generate n-ary mask for each cell-type                       \n",
    "for k in range(len(root)):\n",
    "    label = [x.attrib['Name'] for x in root[k][0]]\n",
    "    label = label[0]\n",
    "\n",
    "    for child in root[k]:\n",
    "        for x in child:\n",
    "            r = x.tag\n",
    "            if r == 'Attribute':\n",
    "                count = count+1\n",
    "                print(count)\n",
    "                label = x.attrib['Name']\n",
    "                n_ary_mask = np.transpose(np.zeros((img.read_region((0,0),0,img.level_dimensions[0]).size))) \n",
    "                print(label)\n",
    "\n",
    "                # Add label to dictionary\n",
    "                if label not in n_ary_masks:\n",
    "                    n_ary_masks[label] = n_ary_mask \n",
    "            if r == 'Region':\n",
    "                regions = []\n",
    "                vertices = x[1]\n",
    "                coords = np.zeros((len(vertices), 2))\n",
    "                for i, vertex in enumerate(vertices):\n",
    "                    coords[i][0] = vertex.attrib['X']\n",
    "                    coords[i][1] = vertex.attrib['Y']        \n",
    "                regions.append(coords)\n",
    "                poly = Polygon(regions[0])  \n",
    "\n",
    "                vertex_row_coords = regions[0][:,0]\n",
    "                vertex_col_coords = regions[0][:,1]\n",
    "                fill_row_coords, fill_col_coords = draw.polygon(vertex_col_coords, vertex_row_coords, n_ary_mask.shape)\n",
    "                gt = gt+1 #Keep track of giving unique valu to each instance in an image\n",
    "                n_ary_masks[label][fill_row_coords, fill_col_coords] = gt"
   ]
  },
  {
   "cell_type": "markdown",
   "id": "8ae8ca60",
   "metadata": {},
   "source": [
    "## Experiment on prediction mask\n",
    "\n",
    "Below, we perform the following experiment:\n",
    "\n",
    "* From the ground truth n-ary masks, we take the \"Lymphocyte\" mask.\n",
    "* We extract the \"Lymphocyte\" mask from the color-coded image by taking all the yellow pixels (we can check the colors used in the color-coded version of the ground truth in [Masks]). Note that this will slightly understimate the segmented region, as the added borders in the color-coded image are not taken into account.\n",
    "* We remove the \"Ambiguous\" regions from both.\n",
    "* We re-label this prediction mask.\n",
    "* We compute the PQ using the challenge-provided version and using our correction.\n",
    "* We offset the labels of the prediction mask so that we incrementally modify the \"alignment\" of the two label lists, and recompute both PQ."
   ]
  },
  {
   "cell_type": "code",
   "execution_count": 5,
   "id": "546f327d",
   "metadata": {},
   "outputs": [],
   "source": [
    "# Compute Panoptic quality metric for each image\n",
    "def Panoptic_quality_corrected(ground_truth_image,predicted_image):\n",
    "    TP = 0\n",
    "    FP = 0\n",
    "    FN = 0\n",
    "    sum_IOU = 0\n",
    "    matched_instances = {}# Create a dictionary to save ground truth indices in keys and predicted matched instances as velues\n",
    "                        # It will also save IOU of the matched instance in [indx][1]\n",
    "\n",
    "    # Find matched instances and save it in a dictionary\n",
    "    for i in np.unique(ground_truth_image):\n",
    "        if i == 0:\n",
    "            pass\n",
    "        else:\n",
    "            temp_image = np.array(ground_truth_image)\n",
    "            temp_image = temp_image == i\n",
    "            matched_image = temp_image * predicted_image\n",
    "        \n",
    "            for j in np.unique(matched_image):\n",
    "                if j == 0:\n",
    "                    pass\n",
    "                else:\n",
    "                    pred_temp = predicted_image == j\n",
    "                    intersection = sum(sum(temp_image*pred_temp))\n",
    "                    union = sum(sum(temp_image + pred_temp))\n",
    "                    IOU = intersection/union\n",
    "                    if IOU> 0.5:\n",
    "                        matched_instances [i] = j, IOU \n",
    "                        \n",
    "    # Compute TP, FP, FN and sum of IOU of the matched instances to compute Panoptic Quality               \n",
    "                        \n",
    "    pred_indx_list = np.unique(predicted_image)\n",
    "    pred_indx_list = np.array(pred_indx_list[1:])\n",
    "\n",
    "    # Loop on ground truth instances\n",
    "    for indx in np.unique(ground_truth_image):\n",
    "        if indx == 0:\n",
    "            pass\n",
    "        else:\n",
    "            if indx in matched_instances.keys():\n",
    "                pred_indx_list = np.delete(pred_indx_list, np.argwhere(pred_indx_list == matched_instances[indx][0]))\n",
    "                TP = TP+1\n",
    "                sum_IOU = sum_IOU+matched_instances[indx][1]\n",
    "            else:\n",
    "                FN = FN+1\n",
    "    FP = len(np.unique(pred_indx_list))\n",
    "    PQ = sum_IOU/(TP+0.5*FP+0.5*FN)\n",
    "    \n",
    "    return PQ"
   ]
  },
  {
   "cell_type": "code",
   "execution_count": 6,
   "id": "02c32135",
   "metadata": {},
   "outputs": [
    {
     "name": "stdout",
     "output_type": "stream",
     "text": [
      "Ground truth labels: [ 0. 48. 49. 50. 51. 52.]\n",
      "Prediction labels: [0 1 2 3 4 5]\n",
      "Challenge PQ: 0.385\n",
      "Corrected PQ: 0.501\n"
     ]
    },
    {
     "data": {
      "image/png": "[encoded data removed]",
      "text/plain": [
       "<Figure size 720x360 with 2 Axes>"
      ]
     },
     "metadata": {
      "needs_background": "light"
     },
     "output_type": "display_data"
    },
    {
     "name": "stdout",
     "output_type": "stream",
     "text": [
      "Prediction labels: [ 0 44 45 46 47 48]\n",
      "Challenge PQ: 0.385\n",
      "Corrected PQ: 0.501\n",
      "Prediction labels: [ 0 45 46 47 48 49]\n",
      "Challenge PQ: 0.417\n",
      "Corrected PQ: 0.501\n",
      "Prediction labels: [ 0 46 47 48 49 50]\n",
      "Challenge PQ: 0.455\n",
      "Corrected PQ: 0.501\n",
      "Prediction labels: [ 0 47 48 49 50 51]\n",
      "Challenge PQ: 0.455\n",
      "Corrected PQ: 0.501\n",
      "Prediction labels: [ 0 48 49 50 51 52]\n",
      "Challenge PQ: 0.501\n",
      "Corrected PQ: 0.501\n",
      "Prediction labels: [ 0 49 50 51 52 53]\n",
      "Challenge PQ: 0.501\n",
      "Corrected PQ: 0.501\n",
      "Prediction labels: [ 0 50 51 52 53 54]\n",
      "Challenge PQ: 0.455\n",
      "Corrected PQ: 0.501\n",
      "Prediction labels: [ 0 51 52 53 54 55]\n",
      "Challenge PQ: 0.417\n",
      "Corrected PQ: 0.501\n",
      "Prediction labels: [ 0 52 53 54 55 56]\n",
      "Challenge PQ: 0.417\n",
      "Corrected PQ: 0.501\n",
      "Prediction labels: [ 0 53 54 55 56 57]\n",
      "Challenge PQ: 0.385\n",
      "Corrected PQ: 0.501\n"
     ]
    }
   ],
   "source": [
    "from skimage.measure import label\n",
    "\n",
    "mask_ambiguous = n_ary_masks['Ambiguous']==0\n",
    "\n",
    "gt = n_ary_masks['Lymphocyte']*mask_ambiguous\n",
    "print(f\"Ground truth labels: {np.unique(gt)}\")\n",
    "\n",
    "pred = label((cc_mask[...,0]==255) & (cc_mask[...,1] == 255) & (cc_mask[...,2] == 0))*mask_ambiguous\n",
    "print(f\"Prediction labels: {np.unique(pred)}\")\n",
    "\n",
    "print(f\"Challenge PQ: {Panoptic_quality(gt, pred):.3f}\")\n",
    "print(f\"Corrected PQ: {Panoptic_quality_corrected(gt, pred):.3f}\")\n",
    "\n",
    "plt.figure(figsize=(10,5))\n",
    "plt.subplot(1,2,1)\n",
    "plt.imshow(gt)\n",
    "plt.axis('off')\n",
    "plt.title('Ground truth Lymphocyte labels')\n",
    "plt.subplot(1,2,2)\n",
    "plt.imshow(pred)\n",
    "plt.axis('off')\n",
    "plt.title('Predicted Lymphocyte labels')\n",
    "plt.show()\n",
    "\n",
    "for offset in [43,44,45,46,47,48,49,50,51,52]:\n",
    "    pred_ = pred.copy()\n",
    "    pred_[pred>0] += offset\n",
    "    print(f\"Prediction labels: {np.unique(pred_)}\")\n",
    "    print(f\"Challenge PQ: {Panoptic_quality(gt, pred_):.3f}\")\n",
    "    print(f\"Corrected PQ: {Panoptic_quality_corrected(gt, pred_):.3f}\")"
   ]
  },
  {
   "cell_type": "markdown",
   "id": "4bc868a3",
   "metadata": {},
   "source": [
    "As we can see, the code from the challenge returns a PQ that vary between 0.385 and 0.501 depending on the alignment of the labels indices, which should have no impact at all on the results. The corrected version, meanwhile, stays at 0.501 throughout these changes.\n",
    "\n",
    "Of interest, if we look at the history of the *PQ_metric.ipynb* file on [GitHub], we can see a point where the code was run on several team's results (https://github.com/ruchikaverma-iitg/MoNuSAC/blob/48c250d7a48e18bde8cedafe1080a5e63ff3bc8d/PQ_metric.ipynb). From there, we can find the results computed for the image & class of the team that we used in the example above:\n",
    "\n",
    "```.\\TCGA-2Z-A9JG-01Z-00-DX1\\TCGA-2Z-A9JG-01Z-00-DX1_6\\Lymphocyte\\27_mask.mat\n",
    "['D:\\\\Personal improvisation\\\\IITB\\\\MoNuSAC\\\\Submissions\\\\Mask_files\\\\Predicted_updated_masks\\\\SJTU_426/.\\\\TCGA-2Z-A9JG-01Z-00-DX1\\\\TCGA-2Z-A9JG-01Z-00-DX1_6/Lymphocyte\\\\11.mat']\n",
    "0.38075071325851917```"
   ]
  },
  {
   "cell_type": "markdown",
   "id": "1dfae788",
   "metadata": {},
   "source": [
    "The result of 0.381 is very close to our \"worst case scenario\" of 0.385. The difference is likely due to a difference in the IoU. It's likely that the size of the objects was sligthly overestimated by the team's algorithm, and that the mask we retrieved from the color-coded version is therefore a bit closer to the ground truth's shape."
   ]
  },
  {
   "cell_type": "markdown",
   "id": "293974e1",
   "metadata": {},
   "source": [
    "## Test of corrected method on the fabricated data"
   ]
  },
  {
   "cell_type": "code",
   "execution_count": 7,
   "id": "5eb13e96",
   "metadata": {},
   "outputs": [
    {
     "name": "stdout",
     "output_type": "stream",
     "text": [
      "1.0\n"
     ]
    }
   ],
   "source": [
    "gt = np.zeros((100,100))\n",
    "pred = np.zeros((100,100))\n",
    "\n",
    "gt[10:20,10:20] = 1\n",
    "gt[10:20,30:40] = 2\n",
    "gt[50:60,50:60] = 3\n",
    "\n",
    "pred[10:20,10:20] = 4\n",
    "pred[10:20,30:40] = 5\n",
    "pred[50:60,50:60] = 6\n",
    "\n",
    "PQ = Panoptic_quality_corrected(gt, pred)\n",
    "print(PQ)"
   ]
  },
  {
   "cell_type": "markdown",
   "id": "3832b04d",
   "metadata": {},
   "source": [
    "The expected result of 1.0 is returned."
   ]
  },
  {
   "cell_type": "markdown",
   "id": "468178cf",
   "metadata": {},
   "source": [
    "# 2. Error in the \"Nuclei-Type and Organ Level\" PQ\n",
    "\n",
    "In the supplementary materials [Suppl], we find a detailed table with the average PQ per-organ and per-class for 19 participants. Using the results printed in the PQ_metric.ipynb's file history (see above), we can check how those results were computed for the SJTU_426 team (\"L2\" in [Suppl]).\n",
    "\n",
    "We have taken all the lines in that \"result dump\" corresponding to the SJTU_426 team and put them in a file. The code to parse that file into the results per organ & per class can be found in the result_parser.py file."
   ]
  },
  {
   "cell_type": "code",
   "execution_count": 8,
   "id": "8a73b3b0",
   "metadata": {},
   "outputs": [],
   "source": [
    "from result_parser import parse_results\n",
    "\n",
    "parser = parse_results('./SJTU_426 Full Results')\n",
    "results_per_organ_and_class = parser.get_results_per_organ_and_class()"
   ]
  },
  {
   "cell_type": "markdown",
   "id": "3285b623",
   "metadata": {},
   "source": [
    "We have in those results the \"PQ\" for each image (corresponding to a region of the patient's whole slide) and each class, with the corresponding organ from the reference of patient id to organ provided in [Suppl]. We can therefore display the same information shown in Table S2 of [Suppl]:"
   ]
  },
  {
   "cell_type": "code",
   "execution_count": 9,
   "id": "0c85d8e8",
   "metadata": {},
   "outputs": [
    {
     "name": "stdout",
     "output_type": "stream",
     "text": [
      "Lung\n",
      "Epithelial avg PQ: 0.614\n",
      "Lymphocyte avg PQ: 0.529\n",
      "Neutrophil avg PQ: 0.566\n",
      "Macrophage avg PQ: 0.621\n",
      "--\n",
      "Kidney\n",
      "Epithelial avg PQ: 0.583\n",
      "Lymphocyte avg PQ: 0.542\n",
      "Neutrophil avg PQ: 0.441\n",
      "Macrophage avg PQ: 0.465\n",
      "--\n",
      "Breast\n",
      "Epithelial avg PQ: 0.667\n",
      "Lymphocyte avg PQ: 0.608\n",
      "Neutrophil avg PQ: 0.446\n",
      "Macrophage avg PQ: 0.342\n",
      "--\n",
      "Prostate\n",
      "Epithelial avg PQ: 0.705\n",
      "Lymphocyte avg PQ: 0.542\n",
      "Neutrophil avg PQ: 0.612\n",
      "Macrophage avg PQ: 0.426\n",
      "--\n"
     ]
    }
   ],
   "source": [
    "for organ, results_organ in results_per_organ_and_class.items():\n",
    "    print(organ)\n",
    "    for cl, results_organ_class in results_organ.items():\n",
    "        avg_class = []\n",
    "        for pat_id, values in results_organ_class.items():\n",
    "            avg_class += values\n",
    "        print(f\"{cl} avg PQ: {sum(avg_class)/len(avg_class):.3f}\")\n",
    "    print('--')"
   ]
  },
  {
   "cell_type": "markdown",
   "id": "49423d13",
   "metadata": {},
   "source": [
    "Looking at Table S2 in [Suppl], we can see that the values are identical to the results of L2, proving that these are indeed the values computed for the challenge results.\n",
    "\n",
    "There is, however, one key difference: the results for the Macrophage class and Neutrophil class are inverted.\n",
    "\n",
    "We can see in that version of the [PQ_metric.ipynb file](https://github.com/ruchikaverma-iitg/MoNuSAC/blob/48c250d7a48e18bde8cedafe1080a5e63ff3bc8d/PQ_metric.ipynb) that the order of the columns in which the results are stored is \"Epithelial - Lymphocyte - Neutrophil - Macrophage\", whereas the result's table in [Suppl] puts Macrophage before Neutrophil, so this is likely to be an error in the collation of the final results."
   ]
  },
  {
   "cell_type": "markdown",
   "id": "81de9bab",
   "metadata": {},
   "source": [
    "# 3. Missed false positives"
   ]
  },
  {
   "cell_type": "code",
   "execution_count": 10,
   "id": "796c9f80",
   "metadata": {},
   "outputs": [],
   "source": [
    "from metrics_reproduction import generate_masks, nary_from_colormap_no_border, match_strict_iou_class, match_strict_iou_class_with_error, compute_PQc"
   ]
  },
  {
   "cell_type": "code",
   "execution_count": 11,
   "id": "cc114e7f",
   "metadata": {},
   "outputs": [],
   "source": [
    "gt_dir = \"./MoNuSAC Testing Data and Annotations\"\n",
    "teams_dir = \"./Teams\""
   ]
  },
  {
   "cell_type": "markdown",
   "id": "7c05c52f",
   "metadata": {},
   "source": [
    "First, we generate all the n-ary masks from the colorcoded predictions and from the testing data:"
   ]
  },
  {
   "cell_type": "code",
   "execution_count": 12,
   "id": "90088419",
   "metadata": {},
   "outputs": [
    {
     "name": "stdout",
     "output_type": "stream",
     "text": [
      "Processing patient 25/25\r"
     ]
    }
   ],
   "source": [
    "import os\n",
    "from skimage.io import imread\n",
    "\n",
    "team_dir = os.path.join(teams_dir,\"SJTU_426\") #contains the color-coded version of the predictions\n",
    "patients = os.listdir(team_dir)\n",
    "\n",
    "for ip,patient in enumerate(patients):\n",
    "    print(f\"Processing patient {ip+1}/{len(patients)}\",end='\\r')\n",
    "    patient_dir = os.path.join(team_dir, patient)\n",
    "    masks = [f for f in os.listdir(patient_dir) if 'mask.png.tif' in f]\n",
    "    for m in masks:\n",
    "        f = m.replace('_mask.png.tif','')\n",
    "        mask_cl = imread(os.path.join(patient_dir,m))\n",
    "        nary_mask = nary_from_colormap_no_border(mask_cl)\n",
    "        \n",
    "        np.save(os.path.join(patient_dir, f\"{f}_nary.npy\"), nary_mask)"
   ]
  },
  {
   "cell_type": "code",
   "execution_count": 13,
   "id": "79e05913",
   "metadata": {},
   "outputs": [
    {
     "name": "stdout",
     "output_type": "stream",
     "text": [
      "25 patients in directory: ./MoNuSAC Testing Data and Annotations\n",
      "25/25\r"
     ]
    }
   ],
   "source": [
    "generate_masks(gt_dir)"
   ]
  },
  {
   "cell_type": "markdown",
   "id": "5c214cca",
   "metadata": {},
   "source": [
    "Using these n-ary masks, we can now recompute the PQ metric, using the \"per-sub-image, per-class\" $PQ_c^i$ computation and two scenarios. In the first one, we count the $PQ_c^i$ only if there is at least one object of that class in the ground truth. In the second scenario, we count the $PQ_c^i$ if there is at least one object of that class in either the ground truth or the prediction. To compare with the challenge results, we use the original matching method (with the error)."
   ]
  },
  {
   "cell_type": "code",
   "execution_count": 14,
   "id": "965317cc",
   "metadata": {},
   "outputs": [
    {
     "name": "stdout",
     "output_type": "stream",
     "text": [
      "Processing patient 25/25\r"
     ]
    }
   ],
   "source": [
    "import os\n",
    "import statistics\n",
    "import numpy as np\n",
    "\n",
    "all_PQs = []\n",
    "all_PQs_full = []\n",
    "\n",
    "team_dir = os.path.join(teams_dir,\"SJTU_426\") #contains the color-coded version of the predictions\n",
    "patients = os.listdir(team_dir)\n",
    "\n",
    "for ip,patient in enumerate(patients):\n",
    "    print(f\"Processing patient {ip+1}/{len(patients)}\",end='\\r')\n",
    "    patient_dir = os.path.join(team_dir, patient)\n",
    "    masks = [f for f in os.listdir(patient_dir) if '_nary.npy' in f]\n",
    "    for m in masks:\n",
    "        pred_mask = np.load(os.path.join(patient_dir,m))\n",
    "        gt_mask = np.load(f'{os.path.join(gt_dir, patient)}/{m}')\n",
    "        mask_nonambiguous = gt_mask[...,4]==0 # ambiguous regions\n",
    "        \n",
    "        PQcs = []\n",
    "        PQcs_full = []\n",
    "        for c in range(4):\n",
    "            if gt_mask[...,c].max()==0 and pred_mask[...,c].max()==0: continue\n",
    "\n",
    "            IOUs,TP,FP,FN = match_strict_iou_class_with_error(gt_mask[...,c]*mask_nonambiguous, pred_mask[...,c]*mask_nonambiguous)\n",
    "            PQc = compute_PQc(IOUs,TP,FP,FN)\n",
    "            if gt_mask[...,c].max() > 0:\n",
    "                PQcs.append(PQc)\n",
    "            if gt_mask[...,c].max() > 0 or pred_mask[...,c].max() > 0:\n",
    "                PQcs_full.append(PQc)\n",
    "        \n",
    "        all_PQs.append(statistics.mean(PQcs))\n",
    "        all_PQs_full.append(statistics.mean(PQcs_full))"
   ]
  },
  {
   "cell_type": "code",
   "execution_count": 15,
   "id": "58b0e5a1",
   "metadata": {},
   "outputs": [
    {
     "name": "stdout",
     "output_type": "stream",
     "text": [
      "Avg PQ (with FP ignored if no gt object): 0.554\n",
      "Avg PQ (with FP fully accounted for): 0.424\n"
     ]
    }
   ],
   "source": [
    "print(f\"Avg PQ (with FP ignored if no gt object): {statistics.mean(all_PQs):.3f}\")\n",
    "print(f\"Avg PQ (with FP fully accounted for): {statistics.mean(all_PQs_full):.3f}\")"
   ]
  },
  {
   "cell_type": "markdown",
   "id": "626f9e38",
   "metadata": {},
   "source": [
    "Computing the number of affected images & objects:"
   ]
  },
  {
   "cell_type": "code",
   "execution_count": 16,
   "id": "a9a870dd",
   "metadata": {},
   "outputs": [
    {
     "name": "stdout",
     "output_type": "stream",
     "text": [
      "Missed false positives for the SJTU team: 439 objects in 66 masks (for reference, there are 162 gt nary-masks in the test set)\n"
     ]
    }
   ],
   "source": [
    "import os\n",
    "import statistics\n",
    "import numpy as np\n",
    "\n",
    "all_PQs = []\n",
    "all_PQs_full = []\n",
    "\n",
    "team_dir = os.path.join(teams_dir,\"SJTU_426\") #contains the color-coded version of the predictions\n",
    "patients = os.listdir(team_dir)\n",
    "\n",
    "n_masks = 0\n",
    "total_masks = 0\n",
    "n_objects = 0\n",
    "\n",
    "for ip,patient in enumerate(patients):\n",
    "    print(f\"Processing patient {ip+1}/{len(patients)}\",end='\\r')\n",
    "    patient_dir = os.path.join(team_dir, patient)\n",
    "    masks = [f for f in os.listdir(patient_dir) if '_nary.npy' in f]\n",
    "    for m in masks:\n",
    "        pred_mask = np.load(os.path.join(patient_dir,m))\n",
    "        gt_mask = np.load(f'{os.path.join(gt_dir, patient)}/{m}')\n",
    "        mask_nonambiguous = gt_mask[...,4]==0 # ambiguous regions\n",
    "        \n",
    "        for c in range(4):\n",
    "            gt_im = gt_mask[...,c]*mask_nonambiguous\n",
    "            pred_im = pred_mask[...,c]*mask_nonambiguous\n",
    "                \n",
    "            if gt_im.max()==0 and pred_im.max()>0:\n",
    "                n_masks += 1\n",
    "                n_objects += len(np.unique(pred_im))-1\n",
    "            \n",
    "            if gt_im.max()>0:\n",
    "                total_masks += 1\n",
    "\n",
    "print(f\"Missed false positives for the SJTU team: {n_objects} objects in {n_masks} masks (for reference, there are {total_masks} gt nary-masks in the test set)\")"
   ]
  },
  {
   "cell_type": "markdown",
   "id": "9d3d1e68",
   "metadata": {},
   "source": [
    "# 4. Problem with the aggregation method\n",
    "\n",
    "Per the [PostPub], the PQ was computed per-class and per-image:\n",
    "\n",
    "> Participants submitted a separate output file for each of the 25 test images. $PQ^i$ was assigned 0 if the file for the i-th test image was not submitted. Arithmetic mean of the 25 $PQ^i$ scores formed the final average panoptic quality (a-PQ) score for ranking the participants.\n",
    "\n",
    "The \"25\", however, doesn't correspond to the number of image (in the sense of individual .svs file in the training set), but to the number of patients. [PrePub] refers to the \"individual images\" as \"sub-images\", as they are regions taken from a larger image, with each patient having a single \"large\" image.\n",
    "\n",
    "This implies that there is an aggregation made at the patient level of the results obtained per-image. The published code, however, doesn't provide that aggregation method, and appears to compute the PQ per sub-image.\n",
    "\n",
    "This is confirmed in the results shown above, where to get the exact values from the result table we simply averaged the PQs computed per \"sub-image\". This is a problem, as sub-images vary wildly in their size and number of objects, with some very small ~100x100 pixels images with one or two objects, and large ~1500x1500 pixels with hundreds of nuclei.\n",
    "\n",
    "To check if this computation per-sub-image was the one used in the published challenge results, we can compute the global average PQ based on the \"result dump\" by :\n",
    "* Compiling the results of each class per sub-image.\n",
    "* Computing the avg PQ per sub-image (using a simple average of the PQc of the classes that were present in the ground truth).\n",
    "* Computing the global avg PQ as the avg of those sub-image PQs."
   ]
  },
  {
   "cell_type": "code",
   "execution_count": 17,
   "id": "f12987c9",
   "metadata": {},
   "outputs": [
    {
     "name": "stdout",
     "output_type": "stream",
     "text": [
      "0.5792538515659122\n"
     ]
    }
   ],
   "source": [
    "all_scores = parser.all_scores\n",
    "\n",
    "scores_per_image = {}\n",
    "for patient, scores in all_scores.items():\n",
    "    for img_id, cl_idx, score in scores:\n",
    "        if img_id not in scores_per_image: scores_per_image[img_id] = [None,None,None,None]\n",
    "        scores_per_image[img_id][cl_idx] = score\n",
    "\n",
    "per_image_avg = []\n",
    "for img_id,pqc in scores_per_image.items():\n",
    "    n = 0\n",
    "    s = 0\n",
    "    for pq in pqc:\n",
    "        if pq is None: continue\n",
    "        s += pq\n",
    "        n += 1\n",
    "    per_image_avg.append(s/n)\n",
    "\n",
    "print(sum(per_image_avg)/len(per_image_avg))"
   ]
  },
  {
   "cell_type": "markdown",
   "id": "7a835386",
   "metadata": {},
   "source": [
    "This corresponds exactly to the results published for the SJTU_426 team [in the challenge results](https://monusac-2020.grand-challenge.org/Results/), confirming that the code in the PQ_metric notebook was the one used to compute the challenge results."
   ]
  }
 ],
 "metadata": {
  "kernelspec": {
   "display_name": "Python 3",
   "language": "python",
   "name": "python3"
  },
  "language_info": {
   "codemirror_mode": {
    "name": "ipython",
    "version": 3
   },
   "file_extension": ".py",
   "mimetype": "text/x-python",
   "name": "python",
   "nbconvert_exporter": "python",
   "pygments_lexer": "ipython3",
   "version": "3.7.10"
  }
 },
 "nbformat": 4,
 "nbformat_minor": 5
}
